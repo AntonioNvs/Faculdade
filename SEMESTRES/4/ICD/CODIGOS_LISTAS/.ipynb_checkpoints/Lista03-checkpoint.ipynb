{
  "cells": [
    {
      "cell_type": "markdown",
      "metadata": {
        "id": "DCLcF58cAw75"
      },
      "source": [
        "# Lista 03 - Análise Exploratória de Dados\n",
        "\n",
        "Continuando da última lista, vamos agora realizar um pouco dos passos da análise exploratória de dados. Em particular, vamos passar pelos passos de:\n",
        "\n",
        "1. Carregamento dos dados\n",
        "1. Limpeza dos dados\n",
        "1. Análise exploratória com gráficos e estatísticas simples\n",
        "\n",
        "## Imports Básicos\n",
        "\n",
        "As células abaixo apenas configuram nosso notebook para ficar mais parecido com os das aulas"
      ]
    },
    {
      "cell_type": "code",
      "execution_count": null,
      "metadata": {
        "id": "TiGCe-0PAw79"
      },
      "outputs": [],
      "source": [
        "from numpy.testing import assert_almost_equal\n",
        "from numpy.testing import assert_equal\n",
        "\n",
        "from numpy.testing import assert_array_almost_equal\n",
        "from numpy.testing import assert_array_equal"
      ]
    },
    {
      "cell_type": "code",
      "execution_count": null,
      "metadata": {
        "id": "RTFgZjyEAw7_"
      },
      "outputs": [],
      "source": [
        "import numpy as np\n",
        "import matplotlib.pyplot as plt\n",
        "import pandas as pd"
      ]
    },
    {
      "cell_type": "code",
      "execution_count": null,
      "metadata": {
        "id": "AGLELSetAw7_"
      },
      "outputs": [],
      "source": [
        "plt.rcParams['figure.figsize']  = (16, 10)\n",
        "plt.rcParams['axes.labelsize']  = 20\n",
        "plt.rcParams['axes.titlesize']  = 20\n",
        "plt.rcParams['legend.fontsize'] = 20\n",
        "plt.rcParams['xtick.labelsize'] = 20\n",
        "plt.rcParams['ytick.labelsize'] = 20\n",
        "plt.rcParams['lines.linewidth'] = 4"
      ]
    },
    {
      "cell_type": "code",
      "execution_count": null,
      "metadata": {
        "id": "xmy2bFOxAw8A"
      },
      "outputs": [],
      "source": [
        "plt.ion()\n",
        "plt.style.use('seaborn-colorblind')"
      ]
    },
    {
      "cell_type": "markdown",
      "metadata": {
        "id": "7mT9teazAw8A"
      },
      "source": [
        "## Notas dos Alunos (Tutorial)\n",
        "\n",
        "Como falamos na última lista, em muitos cenários do mundo real, os dados são carregados de fontes como arquivos. Vamos substituir o DataFrame das notas dos alunos pelo conteúdo de um arquivo de texto."
      ]
    },
    {
      "cell_type": "code",
      "execution_count": null,
      "metadata": {
        "id": "s5T68RfaAw8A"
      },
      "outputs": [],
      "source": [
        "df = pd.read_csv('https://raw.githubusercontent.com/icd-ufmg/icd-ufmg.github.io/master/listas/l3/grades.csv',\n",
        "                 sep=',',\n",
        "                 header=0)\n",
        "df.head()"
      ]
    },
    {
      "cell_type": "markdown",
      "metadata": {
        "id": "B1j55xyVAw8B"
      },
      "source": [
        "O método `read_csv` do `DataFrame` é usado para carregar dados de arquivos de texto. Como você pode ver no código de exemplo, você pode especificar opções como o delimitador de coluna e qual linha (se houver) contém cabeçalhos de coluna (neste caso, o delimitador é uma vírgula e a primeira linha contém os nomes das colunas).\n",
        "\n",
        "Além do mais, a chamada `head` imprime as primeiras cinco linhas da nossa tabela."
      ]
    },
    {
      "cell_type": "markdown",
      "metadata": {
        "id": "O4lzQ6ZkAw8B"
      },
      "source": [
        "### Dados Faltantes\n",
        "\n",
        "Um dos problemas mais comuns com os quais os cientistas de dados precisam lidar são dados incompletos ou ausentes. Como podemos saber que o DataFrame contém valores ausentes? Você pode usar o método `isnull` para tal tarefa."
      ]
    },
    {
      "cell_type": "code",
      "execution_count": null,
      "metadata": {
        "id": "VkVzZuQCAw8C"
      },
      "outputs": [],
      "source": [
        "df.isnull()"
      ]
    },
    {
      "cell_type": "markdown",
      "metadata": {
        "id": "ugwjeTf1Aw8C"
      },
      "source": [
        "Obseve como a última linha falta com o número de horas estudadas. Nas dúas últimas, faltam as notas. Caso você deseja saber a quantidade de dados faltantes, basta somar os `True`s da tabela acima. Aqui é importante saber que Python tratta `True` de forma similar ao número 1. Portanto, basta você somar a tabela inteira para pegar tal quantidade de dados faltantes."
      ]
    },
    {
      "cell_type": "code",
      "execution_count": null,
      "metadata": {
        "id": "5RvFsDJlAw8C"
      },
      "outputs": [],
      "source": [
        "df.isnull().sum()"
      ]
    },
    {
      "cell_type": "markdown",
      "metadata": {
        "id": "dATRa9CxAw8C"
      },
      "source": [
        "Lembrando que a chamada `iloc` pega uma linha com base no número da mesma, vamos observar a última linha da tabela de dados. Observe como os valores faltantes viram `NaN`s. Além do mais, lembre-se que podemos indexar de trás para frente com o -1. -1 é a última linha, -2 a penúltima. Para entender a lógica, em um vetor de tamanho `n`, `n-1` é o último elemento. Indexar `-1` indica `n-1`."
      ]
    },
    {
      "cell_type": "code",
      "execution_count": null,
      "metadata": {
        "id": "c7Nbo8-VAw8D"
      },
      "outputs": [],
      "source": [
        "df.iloc[-1]"
      ]
    },
    {
      "cell_type": "markdown",
      "metadata": {
        "id": "_fikXJnAAw8D"
      },
      "source": [
        "A penúltima."
      ]
    },
    {
      "cell_type": "code",
      "execution_count": null,
      "metadata": {
        "id": "KcP7tKDOAw8D"
      },
      "outputs": [],
      "source": [
        "df.iloc[-2]"
      ]
    },
    {
      "cell_type": "markdown",
      "metadata": {
        "id": "ZFugCl6kAw8D"
      },
      "source": [
        "Agora que encontramos os valores faltantes, o que podemos fazer a respeito deles?\n",
        "\n",
        "#### fillna\n",
        "\n",
        "Uma abordagem comum é imputar valores de substituição. Por exemplo, se o número de horas de estudo está faltando, podemos simplesmente supor que o aluno estudou por um período médio de tempo e substituir o valor faltante com as horas de estudo médias. Para fazer isso, podemos usar o método fillna, como este:"
      ]
    },
    {
      "cell_type": "code",
      "execution_count": null,
      "metadata": {
        "id": "2Z9JtdifAw8D"
      },
      "outputs": [],
      "source": [
        "df['StudyHours'].fillna(df['StudyHours'].mean())"
      ]
    },
    {
      "cell_type": "markdown",
      "metadata": {
        "id": "W-7LdR-eAw8D"
      },
      "source": [
        "Observe que a última linha foi alterada! Porém, o DataFrame original não foi."
      ]
    },
    {
      "cell_type": "code",
      "execution_count": null,
      "metadata": {
        "id": "nfYYnyJoAw8D"
      },
      "outputs": [],
      "source": [
        "df.iloc[-1]"
      ]
    },
    {
      "cell_type": "markdown",
      "metadata": {
        "id": "p9kMPpLQAw8E"
      },
      "source": [
        "Para alterar, podemos trocar a coluna. Abaixo faço tal operação em uma cópia dos dados. Realizei tal escolha apenas para não mudar a tabela original."
      ]
    },
    {
      "cell_type": "code",
      "execution_count": null,
      "metadata": {
        "id": "JD9A6CFyAw8E"
      },
      "outputs": [],
      "source": [
        "df_novo = df.copy() # criar uma cópia apenas para o exemplo\n",
        "df_novo['StudyHours'] = df_novo['StudyHours'].fillna(df_novo['StudyHours'].mean())\n",
        "df_novo.iloc[-1]"
      ]
    },
    {
      "cell_type": "markdown",
      "metadata": {
        "id": "Z-YEQvzSAw8E"
      },
      "source": [
        "Observe como não mudamos nada das notas. O `fillna` pode receber uma série indexada para alterar várias colunas. Primeiramente, observe como a chamada `mean` pega a média de todas as colunas."
      ]
    },
    {
      "cell_type": "code",
      "execution_count": null,
      "metadata": {
        "id": "qd5B1BWtAw8E"
      },
      "outputs": [],
      "source": [
        "df.mean()"
      ]
    },
    {
      "cell_type": "markdown",
      "metadata": {
        "id": "hR40qOKaAw8E"
      },
      "source": [
        "O `fillna` então vai pegar o índice dessa série, o nome da coluna, e utilizar como chave para quais colunas imputar. O valor da série indica o valor que será imputado. Observe como os novos dados abaixo estão sem NaNs."
      ]
    },
    {
      "cell_type": "code",
      "execution_count": null,
      "metadata": {
        "id": "xsUlQT84Aw8E"
      },
      "outputs": [],
      "source": [
        "df_novo = df.fillna(df.mean())\n",
        "df_novo"
      ]
    },
    {
      "cell_type": "code",
      "execution_count": null,
      "metadata": {
        "id": "IwzC7whIAw8E"
      },
      "outputs": [],
      "source": [
        "df_novo.isnull().sum()"
      ]
    },
    {
      "cell_type": "markdown",
      "metadata": {
        "id": "ycjA1dAPAw8E"
      },
      "source": [
        "#### dropna\n",
        "\n",
        "Outra opção é simplesmente remover todas as linhas com dados faltantes. Para tal, fazemos uso da chamada `dropna`."
      ]
    },
    {
      "cell_type": "code",
      "execution_count": null,
      "metadata": {
        "id": "rfRrz5rWAw8F"
      },
      "outputs": [],
      "source": [
        "df_novo = df.dropna()\n",
        "df_novo.shape"
      ]
    },
    {
      "cell_type": "code",
      "execution_count": null,
      "metadata": {
        "id": "EKPdudgEAw8F"
      },
      "outputs": [],
      "source": [
        "df.shape"
      ]
    },
    {
      "cell_type": "markdown",
      "metadata": {
        "id": "3acWT7zPAw8F"
      },
      "source": [
        "Observe como o novo DataFrame tem duas linhas a menos do que o anterior. A escolha de como limpar dados faltantes depende do tipo de análise que você vai realizar. Aqui, vamos seguir com o drop no `df`."
      ]
    },
    {
      "cell_type": "code",
      "execution_count": null,
      "metadata": {
        "id": "TI5HO3ZQAw8F"
      },
      "outputs": [],
      "source": [
        "df.dropna(inplace=True) # on inplace=True altera o dataframe atual, não retorna um novo\n",
        "df"
      ]
    },
    {
      "cell_type": "markdown",
      "metadata": {
        "id": "fRFWvKEUAw8F"
      },
      "source": [
        "### Explorando Dados\n",
        "\n",
        "Lembre-se que você pode indexar DataFrames com vetores booleanos. Por exemplo, para pegas as notas de Skye podemos primeiramente achar a discente nos dados:"
      ]
    },
    {
      "cell_type": "code",
      "execution_count": null,
      "metadata": {
        "id": "16Woz36EAw8F"
      },
      "outputs": [],
      "source": [
        "df['Name'] == 'Skye'"
      ]
    },
    {
      "cell_type": "markdown",
      "metadata": {
        "id": "GJNu8T2pAw8F"
      },
      "source": [
        "Obserne como acima temos uma entrada verdadeira. Esta, é justamente a linha onde temos o nome `Skye`. Ao indexar o DataFrame com tal linha, pegamos a nota da discente."
      ]
    },
    {
      "cell_type": "code",
      "execution_count": null,
      "metadata": {
        "id": "zn3jWD64Aw8F"
      },
      "outputs": [],
      "source": [
        "idx = df['Name'] == 'Skye'\n",
        "df[idx]"
      ]
    },
    {
      "cell_type": "markdown",
      "metadata": {
        "id": "kF9g7K6nAw8F"
      },
      "source": [
        "Outra forma de fazer a mesma operação é com o método **query**. O query faz consultados usando uma línguagem similar aos bancos de dados. Um exemplo:"
      ]
    },
    {
      "cell_type": "code",
      "execution_count": null,
      "metadata": {
        "id": "OwuSVC5FAw8G"
      },
      "outputs": [],
      "source": [
        "df.query('Name == \"Skye\"')"
      ]
    },
    {
      "cell_type": "markdown",
      "metadata": {
        "id": "eYLM0ayMAw8G"
      },
      "source": [
        "Podemos também pegar todas as notas acima de 60. Ou seja, os alunos aprovados."
      ]
    },
    {
      "cell_type": "code",
      "execution_count": null,
      "metadata": {
        "id": "iMeWk42KAw8G"
      },
      "outputs": [],
      "source": [
        "df.query('Grade >= 60')"
      ]
    },
    {
      "cell_type": "markdown",
      "metadata": {
        "id": "XsZECKzZAw8H"
      },
      "source": [
        "Como também os alunos que passaram estudando relativamente pouco.  No nosso caso, vamos focar em alunos que estudaram menos do que 14horas."
      ]
    },
    {
      "cell_type": "code",
      "execution_count": null,
      "metadata": {
        "id": "PXg1puL2Aw8H"
      },
      "outputs": [],
      "source": [
        "df.query('Grade >= 60 and StudyHours <= 14')"
      ]
    },
    {
      "cell_type": "markdown",
      "metadata": {
        "id": "LuefsccSAw8H"
      },
      "source": [
        "Todo retorno, ou do índice booleano ou da query são outros DataFrames. Então, podemos chamar métodos como tirar a média dos alunos."
      ]
    },
    {
      "cell_type": "code",
      "execution_count": null,
      "metadata": {
        "id": "_RrITCmhAw8H"
      },
      "outputs": [],
      "source": [
        "above_60_low_hours = df.query('Grade >= 60 and StudyHours <= 14')\n",
        "type(above_60_low_hours)"
      ]
    },
    {
      "cell_type": "code",
      "execution_count": null,
      "metadata": {
        "id": "QxcS5t3tAw8H"
      },
      "outputs": [],
      "source": [
        "above_60_low_hours.mean()"
      ]
    },
    {
      "cell_type": "markdown",
      "metadata": {
        "id": "MSFa_iWyAw8H"
      },
      "source": [
        "Podemos também buscar os alunos que estão acima da média!"
      ]
    },
    {
      "cell_type": "code",
      "execution_count": null,
      "metadata": {
        "id": "ZWxFExT0Aw8I"
      },
      "outputs": [],
      "source": [
        "mean = df['Grade'].mean()\n",
        "df[df['Grade'] >= mean]"
      ]
    },
    {
      "cell_type": "markdown",
      "metadata": {
        "id": "85U-WBDIAw8I"
      },
      "source": [
        "ou, via query."
      ]
    },
    {
      "cell_type": "code",
      "execution_count": null,
      "metadata": {
        "id": "CABywB_xAw8I"
      },
      "outputs": [],
      "source": [
        "df.query(f'Grade >= {mean}')"
      ]
    },
    {
      "cell_type": "markdown",
      "metadata": {
        "id": "owTrcTgpAw8I"
      },
      "source": [
        "Os DataFrames são incrivelmente versáteis e facilitam a manipulação de dados. Muitas operações DataFrame retornam uma nova cópia do DataFrame; portanto, se quiser modificar um DataFrame, mas manter a variável existente, você precisará atribuir o resultado da operação à variável existente. Por exemplo, o código a seguir classifica os dados do aluno em ordem decrescente de nota e atribui o DataFrame classificado resultante à variável `df_students`."
      ]
    },
    {
      "cell_type": "code",
      "execution_count": null,
      "metadata": {
        "id": "Wr65YTXPAw8I"
      },
      "outputs": [],
      "source": [
        "# Re-ordena os dados por nota\n",
        "df_students = df.sort_values('Grade', ascending=False)\n",
        "df_students"
      ]
    },
    {
      "cell_type": "markdown",
      "metadata": {
        "id": "ZSrGcoIfAw8I"
      },
      "source": [
        "### Visualizando dados com Matplotlib\n",
        "\n",
        "Os DataFrames fornecem uma ótima maneira de explorar e analisar dados tabulares, mas uma imagem vale mil palavras. A biblioteca [Matplotlib](matplotlib.org) fornece a base para a plotagem de visualizações de dados.\n",
        "\n",
        "Vamos começar com um histograma de notas. Observe como também colocamos uma linha preta em cada barra `edgecolor='k'` e setamos rótulos ao X e Y (para sabermos qual eixo mostra quais dados)."
      ]
    },
    {
      "cell_type": "code",
      "execution_count": null,
      "metadata": {
        "id": "mnocTN3kAw8I"
      },
      "outputs": [],
      "source": [
        "plt.hist(df_students['Grade'], edgecolor='k')\n",
        "plt.xlabel('Grade')\n",
        "plt.ylabel('Num. Students')"
      ]
    },
    {
      "cell_type": "markdown",
      "metadata": {
        "id": "qW2BLvwfAw8J"
      },
      "source": [
        "Observe como as notas concentram em 50. Às vezes é mais simples interpretar a função cumulativa dos dados.  Vamos fazer este gráfico de uma forma diferente da que vimos em sala de aula. Alterando um pouco a chamada `hist` podemos pegar a cumulativa."
      ]
    },
    {
      "cell_type": "code",
      "execution_count": null,
      "metadata": {
        "id": "eLLsCraFAw8J"
      },
      "outputs": [],
      "source": [
        "plt.hist(df_students['Grade'], edgecolor='k', cumulative=True)\n",
        "plt.xlabel('Grade - x')\n",
        "plt.ylabel('Num. Students with Grade <= x')"
      ]
    },
    {
      "cell_type": "markdown",
      "metadata": {
        "id": "jOSyPKDDAw8J"
      },
      "source": [
        "Agora, `density=True` transforma este plot em uma função cumulativa de probabilidade."
      ]
    },
    {
      "cell_type": "code",
      "execution_count": null,
      "metadata": {
        "id": "U6cmx5TOAw8J"
      },
      "outputs": [],
      "source": [
        "plt.hist(df_students['Grade'], edgecolor='k', cumulative=True, density=True)\n",
        "plt.xlabel('Grade - x')\n",
        "plt.ylabel('Frac. Students with Grade <= x')"
      ]
    },
    {
      "cell_type": "markdown",
      "metadata": {
        "id": "FR55MPTeAw8J"
      },
      "source": [
        "Observe que 50% dos alunos (0.5 no eixo-y) tem nota menor ou igual à mais ou menos 47~50 (eixo-x). Isto pode ser verificado com a chamada median abaixo. Outro exemplo, tente entender no gráfico, 20% dos alunos (eixo-y) tem nota menor ou igual à mais ou menos 30."
      ]
    },
    {
      "cell_type": "code",
      "execution_count": null,
      "metadata": {
        "id": "KsF1ZyjEAw8J"
      },
      "outputs": [],
      "source": [
        "df_students['Grade'].median()"
      ]
    },
    {
      "cell_type": "markdown",
      "metadata": {
        "id": "RBcq3mmwAw8J"
      },
      "source": [
        "Até agora, você usou métodos do Matplotlib.pyplot para plotar gráficos. No entanto, muitos pacotes, incluindo Pandas, fornecem métodos que abstraem as funções Matplotlib simplificando sua vida. Por exemplo, o DataFrame fornece seus próprios métodos para plotar dados, conforme mostrado no exemplo a seguir para plotar um gráfico de barras de horas de estudo."
      ]
    },
    {
      "cell_type": "code",
      "execution_count": null,
      "metadata": {
        "id": "rWwFR_LzAw8K"
      },
      "outputs": [],
      "source": [
        "df_students.plot.bar(x='Name', y='Grade', edgecolor='k')"
      ]
    },
    {
      "cell_type": "markdown",
      "metadata": {
        "id": "lCAMmXzUAw8K"
      },
      "source": [
        "Ou o mesmo histograma de antes."
      ]
    },
    {
      "cell_type": "code",
      "execution_count": null,
      "metadata": {
        "id": "Jz9CFYP8Aw8K"
      },
      "outputs": [],
      "source": [
        "df_students.plot.hist(y='Grade', edgecolor='k')\n",
        "plt.xlabel('Grade - x')\n",
        "plt.ylabel('Num. Students')"
      ]
    },
    {
      "cell_type": "markdown",
      "metadata": {
        "id": "Vqxx0030Aw8K"
      },
      "source": [
        "Como também uma versão contínua do histograma. Esta é chamada de Kernel Density Estimation (vimos rapidamente em sala de aula)."
      ]
    },
    {
      "cell_type": "code",
      "execution_count": null,
      "metadata": {
        "id": "CbyKYirVAw8K"
      },
      "outputs": [],
      "source": [
        "df_students.plot.kde(y='Grade')\n",
        "plt.xlabel('Grade - x')\n",
        "plt.ylabel('Density')"
      ]
    },
    {
      "cell_type": "markdown",
      "metadata": {
        "id": "rl_UgEmLAw8K"
      },
      "source": [
        "### Estatísticas\n",
        "\n",
        "#### Medidas de tendência central\n",
        "\n",
        "Para entender melhor a distribuição, podemos examinar as chamadas medidas de tendência central; que é uma maneira sofisticada de descrever estatísticas que representam o \"meio\" dos dados. O objetivo disso é tentar encontrar um valor \"típico\". Maneiras comuns de definir o meio dos dados incluem:\n",
        "  * A média: uma média simples baseada na soma de todos os valores no conjunto de amostra e, em seguida, na divisão do total pelo número de amostras.\n",
        "  * A mediana: o valor no meio do intervalo de todos os valores de amostra.\n",
        "  * A moda: o valor de ocorrência mais comum no conjunto de amostra.\n",
        "\n",
        "Vamos calcular esses valores, junto com os valores mínimo e máximo para comparação, e mostrá-los no histograma. Primeiramente, observe como podemos pegar tais valores direto do DataFrame."
      ]
    },
    {
      "cell_type": "code",
      "execution_count": null,
      "metadata": {
        "id": "OpuDc0KLAw8K"
      },
      "outputs": [],
      "source": [
        "df.mean()"
      ]
    },
    {
      "cell_type": "code",
      "execution_count": null,
      "metadata": {
        "id": "_5M2d61ZAw8L"
      },
      "outputs": [],
      "source": [
        "df.median()"
      ]
    },
    {
      "cell_type": "markdown",
      "metadata": {
        "id": "wsrtu7jSAw8L"
      },
      "source": [
        "Ou, descrever o DataFrame como um todo. Aqui pegamos a média, mínimo, máximo e quartis (mais abaixo) dos dados."
      ]
    },
    {
      "cell_type": "code",
      "execution_count": null,
      "metadata": {
        "id": "h-VrATZGAw8L"
      },
      "outputs": [],
      "source": [
        "df.describe()"
      ]
    },
    {
      "cell_type": "markdown",
      "metadata": {
        "id": "IASIJ5vkAw8L"
      },
      "source": [
        "Além disso, podemos focar em um vetor de dados específico."
      ]
    },
    {
      "cell_type": "code",
      "execution_count": null,
      "metadata": {
        "id": "YJUdYnsmAw8L"
      },
      "outputs": [],
      "source": [
        "data = df['Grade']\n",
        "\n",
        "\n",
        "min_ = data.min()\n",
        "max_ = data.max()\n",
        "mean = data.mean()\n",
        "median = data.median()\n",
        "mode = data.mode()[0]\n",
        "\n",
        "print(min_, max_, mean, median, mode, sep=', ')"
      ]
    },
    {
      "cell_type": "markdown",
      "metadata": {
        "id": "i22OA0NAAw8L"
      },
      "source": [
        "Abaixo plotamos cada estatística em linhas verticais."
      ]
    },
    {
      "cell_type": "code",
      "execution_count": null,
      "metadata": {
        "id": "uy_6n45oAw8L"
      },
      "outputs": [],
      "source": [
        "# Histograma\n",
        "plt.hist(data, edgecolor='k')\n",
        "plt.xlabel('Grade')\n",
        "plt.ylabel('Num. Students')\n",
        "\n",
        "# Linhas para cada estatística\n",
        "plt.axvline(x=min_, color = 'gray', linestyle='dashed', linewidth = 2, label='min')\n",
        "plt.axvline(x=mean, color = 'cyan', linestyle='dashed', linewidth = 2, label='mean')\n",
        "plt.axvline(x=median, color = 'red', linestyle='dashed', linewidth = 2, label='median')\n",
        "plt.axvline(x=mode, color = 'yellow', linestyle='dashed', linewidth = 2, label='mode')\n",
        "plt.axvline(x=max_, color = 'gray', linestyle='dashed', linewidth = 2, label='max')\n",
        "\n",
        "# Adiciona uma legenda\n",
        "plt.legend()"
      ]
    },
    {
      "cell_type": "markdown",
      "metadata": {
        "id": "l7KgoIpjAw8M"
      },
      "source": [
        "### Medidas de variância\n",
        "\n",
        "Portanto, agora temos uma boa ideia de onde estão as estatísticas centrais dos dados. No entanto, há outro aspecto das distribuições que devemos examinar: quanta variabilidade existe nos dados?\n",
        "\n",
        "As estatísticas típicas que medem a variabilidade nos dados incluem:\n",
        "\n",
        "* Intervalo: a diferença entre o máximo e o mínimo. Não há função incorporada para isso, mas é fácil calcular usando as funções mín e máx.\n",
        "* Variância: a média da diferença quadrática da média. Você pode usar a função var integrada para encontrar isso.\n",
        "* Desvio padrão: a raiz quadrada da variância. Você pode usar a função std embutida para encontrar isso."
      ]
    },
    {
      "cell_type": "code",
      "execution_count": null,
      "metadata": {
        "id": "dTihug9oAw8M"
      },
      "outputs": [],
      "source": [
        "for col_name in ['Grade', 'StudyHours']:\n",
        "    col = df_students[col_name]\n",
        "    rng = col.max() - col.min()\n",
        "    var = col.var(ddof=1)\n",
        "    std = col.std(ddof=1)\n",
        "    print('\\n{}:\\n - Range: {:.2f}\\n - Variance: {:.2f}\\n - Std.Dev: {:.2f}'.format(col_name, rng, var, std))"
      ]
    },
    {
      "cell_type": "markdown",
      "metadata": {
        "id": "x90pvdbEAw8M"
      },
      "source": [
        "#### Quartis\n",
        "\n",
        "Na estatística descritiva, um quartil é qualquer um dos três valores que divide o conjunto ordenado de dados em quatro partes iguais, e assim cada parte representa 1/4 da amostra ou população.\n",
        "\n",
        "Assim, no caso duma amostra ordenada,\n",
        "  * primeiro quartil (designado por Q1/4) = quartil inferior = é o valor aos 25% da amostra ordenada = 25º percentil\n",
        "  * segundo quartil (designado por Q2/4) = mediana = é o valor até ao qual se encontra 50% da amostra ordenada = 50º percentil, ou 5º decil.\n",
        "  * terceiro quartil (designado por Q3/4) = quartil superior = valor a partir do qual se encontram 25% dos valores mais elevados = valor aos 75% da amostra ordenada = 75º percentil\n",
        "  * à diferença entre os quartis superior e inferior chama-se amplitude inter-quartil.\n",
        "  \n",
        "Observe como os quartis estão presentes na sumarização dos dados. São as linhas 25%, 50% (mediana) e 75%."
      ]
    },
    {
      "cell_type": "code",
      "execution_count": null,
      "metadata": {
        "id": "n7NKMCc4Aw8M"
      },
      "outputs": [],
      "source": [
        "df.describe()"
      ]
    },
    {
      "cell_type": "markdown",
      "metadata": {
        "id": "HxgirtQAAw8N"
      },
      "source": [
        "#### Comparando Dados\n",
        "\n",
        "Por fim, vamos comparar o tempo de estudo entre os alunos que passaram ou não. Para tal, vamos definir qualquer nota >= 60 como sendo uma aprovação. Depois disso, vamos alterar o DataFrame para conter tal informação.\n",
        "\n",
        "Primeiro criando a série com tal informação."
      ]
    },
    {
      "cell_type": "code",
      "execution_count": null,
      "metadata": {
        "id": "Joe5PYEBAw8N"
      },
      "outputs": [],
      "source": [
        "passed = df['Grade'] >= 60\n",
        "passed"
      ]
    },
    {
      "cell_type": "markdown",
      "metadata": {
        "id": "4aNYUQHoAw8N"
      },
      "source": [
        "Agora, alterando o DataFrame."
      ]
    },
    {
      "cell_type": "code",
      "execution_count": null,
      "metadata": {
        "id": "KrYdxy4zAw8N"
      },
      "outputs": [],
      "source": [
        "df['Passed'] = passed\n",
        "df"
      ]
    },
    {
      "cell_type": "markdown",
      "metadata": {
        "id": "zX-SORP1Aw8N"
      },
      "source": [
        "Agora, vamos entender o tempo de dedicação dos alunos que passam e dos que não passam. Podemos fazer uso do Boxplot para tal comparativo. Na estatística descritiva, o boxplot é uma ferramenta gráfica para representar a variação de dados observados de uma variável numérica por meio de quartis.\n",
        "\n",
        "A \"caixa\" mostra o primeiro e terceiro quartil. A linha no meio mostra o segundo, a mediana. Portanto, a caixa se estende dos valores dos quartil de Q1 a Q3 dos dados, com uma linha na mediana (Q2). Os bigodes se estendem das bordas da caixa para mostrar a extensão dos dados. Por padrão, eles estendem não mais do que 1,5 * IQR (IQR = Q3 - Q1) das bordas da caixa, terminando no ponto de dados mais distante dentro desse intervalo. Valores fora desta faix são plotados como pontos separados."
      ]
    },
    {
      "cell_type": "code",
      "execution_count": null,
      "metadata": {
        "id": "Mwdn3ZxcAw8O"
      },
      "outputs": [],
      "source": [
        "df.boxplot(column='StudyHours', by='Passed', grid=False)"
      ]
    },
    {
      "cell_type": "markdown",
      "metadata": {
        "id": "hftRuEeMAw8O"
      },
      "source": [
        "Observe que, como esperado, alunos que passam estudam mais. Os quartis, portanto a distribuição dos dados, são mais altos. Para observar os valores podemos fazer um groupby.\n",
        "\n",
        "Abaixo eu agrupo os dados por passou ou não. Depois, pego as horas de estudo. Por fim, observo as estatíticas."
      ]
    },
    {
      "cell_type": "code",
      "execution_count": null,
      "metadata": {
        "id": "yyffcbKoAw8O"
      },
      "outputs": [],
      "source": [
        "df.groupby('Passed')['StudyHours'].describe()"
      ]
    },
    {
      "cell_type": "markdown",
      "metadata": {
        "id": "os0b490FAw8O"
      },
      "source": [
        "Observe como 25% (primeiro quartil) dos alunos que não passam, estudam menos do que 8,25 horas. Para os que passam, este valor é de 13,125. Agora pense no complemento dos 25%. 75% dos alunos que passam estudam pelo menos 13h! Isso é bem maior do que as 8h dos que não passam!"
      ]
    },
    {
      "cell_type": "markdown",
      "metadata": {
        "id": "E5jiykmGAw8O"
      },
      "source": [
        "### Correlacionando Dados\n",
        "\n",
        "Por fim, podemos correlacional o tempo de estudo com a nota."
      ]
    },
    {
      "cell_type": "code",
      "execution_count": null,
      "metadata": {
        "id": "Y0k7La8UAw8O"
      },
      "outputs": [],
      "source": [
        "plt.scatter(df.StudyHours, df.Grade, edgecolor='k', alpha=0.75)\n",
        "plt.xlabel('Hours')\n",
        "plt.ylabel('Grade')"
      ]
    },
    {
      "cell_type": "markdown",
      "metadata": {
        "id": "2nss89auAw8O"
      },
      "source": [
        "## Exercícios (Flight Data)\n",
        "\n",
        "Eu espero que o tutorial acima tenha sido uma boa revisão de análise exploratória de dados. Agora é com você! Nesta lista, você explorará um conjunto de dados do mundo real contendo dados de voos do Departamento de Transporte dos EUA.\n",
        "\n",
        "Vamos começar carregando e visualizando os dados."
      ]
    },
    {
      "cell_type": "code",
      "execution_count": null,
      "metadata": {
        "id": "KWhqzAXCAw8P"
      },
      "outputs": [],
      "source": [
        "df = pd.read_csv('https://raw.githubusercontent.com/icd-ufmg/icd-ufmg.github.io/master/listas/l3/flights.csv')"
      ]
    },
    {
      "cell_type": "markdown",
      "metadata": {
        "id": "V_upoohLAw8P"
      },
      "source": [
        "O conjunto de dados contém observações de voos domésticos dos EUA em 2013 e consiste nos seguintes campos:\n",
        "* Ano: o ano do voo (todos os registros são de 2013)\n",
        "* Mês: o mês do voo\n",
        "* Dia do mês: o dia do mês em que o voo partiu\n",
        "* DayOfWeek: o dia da semana em que o voo partiu - de 1 (segunda-feira) a 7 (domingo)\n",
        "* Transportadora: a abreviatura de duas letras da companhia aérea.\n",
        "* OriginAirportID: Um identificador numérico exclusivo para o aeroporto de partida\n",
        "* Nome do aeroporto de origem: o nome completo do aeroporto de partida\n",
        "* OriginCity: a cidade do aeroporto de partida\n",
        "* Estado de origem: o estado do aeroporto de partida\n",
        "* DestAirportID: Um identificador numérico único para o aeroporto de destino\n",
        "* DestAirportName: o nome completo do aeroporto de destino\n",
        "* DestCity: a cidade do aeroporto de destino\n",
        "* DestState: o estado do aeroporto de destino\n",
        "* CRSDepTime: a hora de partida programada\n",
        "* DepDelay: o número de minutos de atraso na partida (o voo que saiu antes do horário tem um valor negativo)\n",
        "* DelDelay15: Um indicador binário de que a partida foi atrasada por mais de 15 minutos (e, portanto, considerada \"atrasada\")\n",
        "* CRSArrTime: a hora de chegada programada\n",
        "* ArrDelay: o número de minutos de atraso na chegada (o voo que chegou antes do horário tem um valor negativo)\n",
        "* ArrDelay15: Um indicador binário de que a chegada foi atrasada em mais de 15 minutos (e, portanto, considerada \"atrasada\")\n",
        "* Cancelado: um indicador binário de que o voo foi cancelado"
      ]
    },
    {
      "cell_type": "code",
      "execution_count": null,
      "metadata": {
        "id": "DiCAdeQBAw8P"
      },
      "outputs": [],
      "source": [
        "df.head()"
      ]
    },
    {
      "cell_type": "markdown",
      "metadata": {
        "id": "z1AtZsJdAw8P"
      },
      "source": [
        "### Exercício 1\n",
        "\n",
        "Conte a quantidade de dados faltantes na tabela. Isto é, em TODAS as células. O método retorna apenas um número."
      ]
    },
    {
      "cell_type": "code",
      "execution_count": null,
      "metadata": {
        "id": "zAEG8Zs7Aw8P"
      },
      "outputs": [],
      "source": [
        "def count_missing(df) -> int:\n",
        "    return None"
      ]
    },
    {
      "cell_type": "code",
      "execution_count": null,
      "metadata": {
        "id": "yQA7K9izAw8P"
      },
      "outputs": [],
      "source": [
        "assert_equal(2761, count_missing(df))"
      ]
    },
    {
      "cell_type": "markdown",
      "metadata": {
        "id": "3N7D_24lAw8P"
      },
      "source": [
        "### Exercício 2\n",
        "\n",
        "Crie um novo DataFrame sem as linhas com dados faltantes"
      ]
    },
    {
      "cell_type": "code",
      "execution_count": null,
      "metadata": {
        "id": "4rYPQ23tAw8Q"
      },
      "outputs": [],
      "source": [
        "def drop_missing(df):\n",
        "    return None"
      ]
    },
    {
      "cell_type": "code",
      "execution_count": null,
      "metadata": {
        "id": "NLvSU0JCAw8Q"
      },
      "outputs": [],
      "source": [
        "assert_equal(269179, drop_missing(df).shape[0])"
      ]
    },
    {
      "cell_type": "markdown",
      "metadata": {
        "id": "vIZWdur3Aw8Q"
      },
      "source": [
        "### Exercício 3\n",
        "\n",
        "Retorne a mediana de TODAS as colunas numéricas do DataFrame"
      ]
    },
    {
      "cell_type": "code",
      "execution_count": null,
      "metadata": {
        "id": "WzjOK-HUAw8Q"
      },
      "outputs": [],
      "source": [
        "def all_median(df):\n",
        "    return None"
      ]
    },
    {
      "cell_type": "code",
      "execution_count": null,
      "metadata": {
        "id": "jLC5BYqVAw8Q"
      },
      "outputs": [],
      "source": [
        "assert_equal(2013, all_median(df)['Year'])\n",
        "assert_equal(7, all_median(df)['Month'])"
      ]
    },
    {
      "cell_type": "markdown",
      "metadata": {
        "id": "bChd0Yy6Aw8Q"
      },
      "source": [
        "### Exercício 4\n",
        "\n",
        "Quais são os atrasos médios (médios) de partida e chegada? Retorne uma tupla."
      ]
    },
    {
      "cell_type": "code",
      "execution_count": null,
      "metadata": {
        "id": "3ciPw0FOAw8Q"
      },
      "outputs": [],
      "source": [
        "def delay(df) -> tuple:\n",
        "    return None"
      ]
    },
    {
      "cell_type": "code",
      "execution_count": null,
      "metadata": {
        "id": "nSV_mlK_Aw8R"
      },
      "outputs": [],
      "source": [
        "assert_almost_equal(10.456614371849216, delay(df)[0])\n",
        "assert_almost_equal(6.563286883449304, delay(df)[1])"
      ]
    },
    {
      "cell_type": "markdown",
      "metadata": {
        "id": "3kA091tpAw8R"
      },
      "source": [
        "### Exercício 5\n",
        "\n",
        "Indique qual rota tem o maior tempo de voo em MÉDIA. Use a coluna OriginAirportName e DestinationAirportName. Retorne uma tupla `(OriginAirportName, DestinationAirportName)`. Lembre-se de não considerar voos cancelados!\n",
        "\n",
        "O código abaixo tem o começo da solução, tente entender o mesmo:\n",
        "\n",
        "```python\n",
        "good = df.dropna().query('Cancelled == 0').copy()  # tira os cancelados\n",
        "\n",
        "good['Q5'] = np.zeros(good.shape[0])               # cria uma coluna q5 com zeros\n",
        "idx_same_day = good.CRSArrTime >= good.CRSDepTime  # voos que não viram a noite. chegada depois da saída\n",
        "good.loc[idx_same_day, 'Q5'] = good.CRSArrTime - good.CRSDepTime          # tempo de voos diurnos\n",
        "good.loc[~idx_same_day, 'Q5'] = 2400 - good.CRSDepTime + good.CRSArrTime  # tempo de voos que viram a noite\n",
        "good = good[['OriginAirportName', 'DestAirportName', 'Q5']]               # pega as três colunas de interesse\n",
        "```"
      ]
    },
    {
      "cell_type": "code",
      "execution_count": null,
      "metadata": {
        "id": "ipAUSXkxAw8R"
      },
      "outputs": [],
      "source": [
        "def high_delay(df):\n",
        "    return None"
      ]
    },
    {
      "cell_type": "markdown",
      "metadata": {
        "id": "tCUo717ZAw8R"
      },
      "source": [
        "### Exercício 6\n",
        "\n",
        "Faça um boxplot dos atrasos de saída por dia da semana!\n",
        "\n",
        "1. Dica, use `grid=False, showfliers=False` para o plot ficar mais limpo\n",
        "\n",
        "*Saída esperada*\n",
        "\n",
        "![](https://raw.githubusercontent.com/icd-ufmg/icd-ufmg.github.io/master/listas/l3/plot1.png)"
      ]
    },
    {
      "cell_type": "code",
      "execution_count": null,
      "metadata": {
        "id": "CfUNgF-0Aw8R"
      },
      "outputs": [],
      "source": []
    },
    {
      "cell_type": "markdown",
      "metadata": {
        "id": "9zqRZBHwAw8R"
      },
      "source": [
        "### Exercício 7\n",
        "\n",
        "Correlacione o atraso de saída com o atraso de chegada!\n",
        "\n",
        "1. Dica, remova os voos cancelados\n",
        "\n",
        "*Saída esperada*\n",
        "\n",
        "![](https://raw.githubusercontent.com/icd-ufmg/icd-ufmg.github.io/master/listas/l3/plot2.png)"
      ]
    },
    {
      "cell_type": "code",
      "execution_count": null,
      "metadata": {
        "id": "OVUjcpzOAw8R"
      },
      "outputs": [],
      "source": []
    }
  ],
  "metadata": {
    "kernelspec": {
      "display_name": "Python 3 (ipykernel)",
      "language": "python",
      "name": "python3"
    },
    "language_info": {
      "codemirror_mode": {
        "name": "ipython",
        "version": 3
      },
      "file_extension": ".py",
      "mimetype": "text/x-python",
      "name": "python",
      "nbconvert_exporter": "python",
      "pygments_lexer": "ipython3",
      "version": "3.11.3"
    },
    "colab": {
      "provenance": []
    }
  },
  "nbformat": 4,
  "nbformat_minor": 0
}