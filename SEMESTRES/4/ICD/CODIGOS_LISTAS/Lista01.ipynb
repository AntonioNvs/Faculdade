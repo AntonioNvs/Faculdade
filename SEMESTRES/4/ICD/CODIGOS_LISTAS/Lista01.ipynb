{
 "cells": [
  {
   "cell_type": "markdown",
   "metadata": {
    "id": "YsmlIiItF_GA"
   },
   "source": [
    "# Lista 01 - Introdução e Revisão Numpy\n",
    "\n",
    "[NumPy](http://numpy.org) é um pacote incrivelmente poderoso em Python, onipresente em qualquer projeto de ciência de dados. Possui forte integração com o [Pandas](http://pandas.pydata.org), outra ferramenta que iremos abordar na matéria. NumPy adiciona suporte para matrizes multidimensionais e funções matemáticas que permitem que você execute facilmente cálculos de álgebra linear. Este notebook será uma coleção de exemplos de álgebra linear computados usando NumPy.\n",
    "\n",
    "## Numpy\n",
    "\n",
    "Para fazer uso de Numpy precisamos importar a biblioteca"
   ]
  },
  {
   "cell_type": "code",
   "execution_count": 2,
   "metadata": {
    "id": "uKATko_cF_GJ"
   },
   "outputs": [],
   "source": [
    "# -*- coding: utf8\n",
    "\n",
    "import numpy as np"
   ]
  },
  {
   "cell_type": "markdown",
   "metadata": {
    "id": "F7Qf-Y4gF_GL"
   },
   "source": [
    "Quando pensamos no lado prático de ciência de dados, um aspecto chave que ajuda na implementação de novos algoritmos é a vetorização. De forma simples, vetorização consiste do uso de tipos como **escalar**, **vetor** e **matriz** para realizar uma computação mais eficaz (em tempo de execução).\n",
    "\n",
    "Uma matriz é uma coleção de valores, normalmente representada por uma grade 𝑚 × 𝑛, onde 𝑚 é o número de linhas e 𝑛 é o número de colunas. Os comprimentos das arestas 𝑚 e 𝑛 não precisam ser necessariamente diferentes. Se tivermos 𝑚 = 𝑛, chamamos isso de matriz quadrada. Um caso particularmente interessante de uma matriz é quando 𝑚 = 1 ou 𝑛 = 1. Nesse caso, temos um caso especial de uma matriz que chamamos de vetor. Embora haja um objeto de matriz em NumPy, faremos tudo usando matrizes NumPy porque elas podem ter dimensões maiores que 2.\n",
    "\n",
    "1. **Escalar:** Um vetor de zero dimensões"
   ]
  },
  {
   "cell_type": "code",
   "execution_count": 3,
   "metadata": {
    "id": "EEceTufAF_GM",
    "outputId": "9d156bc3-fe5a-434a-ee11-6e9f9ce9834c"
   },
   "outputs": [
    {
     "data": {
      "text/plain": [
       "1"
      ]
     },
     "execution_count": 3,
     "metadata": {},
     "output_type": "execute_result"
    }
   ],
   "source": [
    "1"
   ]
  },
  {
   "cell_type": "code",
   "execution_count": 4,
   "metadata": {
    "id": "W1_itQUHF_GO",
    "outputId": "ddb93996-6a03-444f-d779-4870bb164395"
   },
   "outputs": [
    {
     "data": {
      "text/plain": [
       "array(1)"
      ]
     },
     "execution_count": 4,
     "metadata": {},
     "output_type": "execute_result"
    }
   ],
   "source": [
    "np.array(1)"
   ]
  },
  {
   "cell_type": "markdown",
   "metadata": {
    "id": "lcMHZ09uF_GQ"
   },
   "source": [
    "2. **Vetor:** Representa uma dimensão"
   ]
  },
  {
   "cell_type": "markdown",
   "metadata": {
    "id": "c_-QgxlVF_GQ"
   },
   "source": [
    "Abaixo vamos criar um vetor simples. Inicialmente, vamos criar uma lista."
   ]
  },
  {
   "cell_type": "code",
   "execution_count": 5,
   "metadata": {
    "id": "swmD9FFhF_GR"
   },
   "outputs": [],
   "source": [
    "data_list = [3.5, 5, 2, 8, 4.2]"
   ]
  },
  {
   "cell_type": "markdown",
   "metadata": {
    "id": "DFK0R53sF_GS"
   },
   "source": [
    "Observe o tipo da mesma."
   ]
  },
  {
   "cell_type": "code",
   "execution_count": 6,
   "metadata": {
    "id": "GmPfcCkjF_GT",
    "outputId": "bcce7401-8b38-47c1-b97d-aa442a5e9108"
   },
   "outputs": [
    {
     "data": {
      "text/plain": [
       "list"
      ]
     },
     "execution_count": 6,
     "metadata": {},
     "output_type": "execute_result"
    }
   ],
   "source": [
    "type(data_list)"
   ]
  },
  {
   "cell_type": "markdown",
   "metadata": {
    "id": "mmrxbvpWF_GU"
   },
   "source": [
    "Embora vetores e listas sejam parecidos, vetores Numpy são otimizados para operações de Álgebra Linear. Ciência de Dados faz bastante uso de tais operações, sendo este um dos motivos da dependência em Numpy.\n",
    "\n",
    "Abaixo criamos um vetor."
   ]
  },
  {
   "cell_type": "code",
   "execution_count": 7,
   "metadata": {
    "id": "vZLaMwx3F_GV",
    "outputId": "88cd8744-4b7e-4721-c4c9-d98e75789d1d"
   },
   "outputs": [
    {
     "name": "stdout",
     "output_type": "stream",
     "text": [
      "[3.5 5.  2.  8.  4.2]\n",
      "<class 'numpy.ndarray'>\n"
     ]
    }
   ],
   "source": [
    "data = np.array(data_list)\n",
    "print(data)\n",
    "print(type(data))"
   ]
  },
  {
   "cell_type": "markdown",
   "metadata": {
    "id": "JnPPjhvuF_GV"
   },
   "source": [
    "Observe como podemos somar o mesmo com um número. Não é possível fazer tal operação com listas."
   ]
  },
  {
   "cell_type": "code",
   "execution_count": 8,
   "metadata": {
    "id": "CRxJ-Ro0F_GV",
    "outputId": "c7db6c74-6df7-4e19-aed6-f25dbb771eeb"
   },
   "outputs": [
    {
     "data": {
      "text/plain": [
       "array([10.5, 12. ,  9. , 15. , 11.2])"
      ]
     },
     "execution_count": 8,
     "metadata": {},
     "output_type": "execute_result"
    }
   ],
   "source": [
    "data + 7"
   ]
  },
  {
   "cell_type": "markdown",
   "metadata": {
    "id": "0_qbtdqIF_GW"
   },
   "source": [
    "3. **Matrizes:** Representam duas dimensões."
   ]
  },
  {
   "cell_type": "code",
   "execution_count": 9,
   "metadata": {
    "id": "zgMHBBVqF_GW",
    "outputId": "19b1eb52-f6de-46b5-b2d0-3ea8b2c10eb2"
   },
   "outputs": [
    {
     "data": {
      "text/plain": [
       "array([[2, 4],\n",
       "       [1, 3]])"
      ]
     },
     "execution_count": 9,
     "metadata": {},
     "output_type": "execute_result"
    }
   ],
   "source": [
    "X = np.array([[2, 4],\n",
    "              [1, 3]])\n",
    "X"
   ]
  },
  {
   "cell_type": "markdown",
   "metadata": {
    "id": "PiXkj4SoF_GW"
   },
   "source": [
    "Podemos indexar as matrizes e os vetores."
   ]
  },
  {
   "cell_type": "code",
   "execution_count": 10,
   "metadata": {
    "id": "IjmVqmTYF_GW",
    "outputId": "524b6738-eb41-4092-a3d5-3b9125ba2954"
   },
   "outputs": [
    {
     "data": {
      "text/plain": [
       "3.5"
      ]
     },
     "execution_count": 10,
     "metadata": {},
     "output_type": "execute_result"
    }
   ],
   "source": [
    "data[0]"
   ]
  },
  {
   "cell_type": "code",
   "execution_count": 11,
   "metadata": {
    "id": "UUjxk0wYF_GX",
    "outputId": "f0923e20-8de9-4bd0-a37a-a3649e30a3f7"
   },
   "outputs": [
    {
     "data": {
      "text/plain": [
       "4"
      ]
     },
     "execution_count": 11,
     "metadata": {},
     "output_type": "execute_result"
    }
   ],
   "source": [
    "X[0, 1] # aqui é primeira linha, segunda coluna"
   ]
  },
  {
   "cell_type": "markdown",
   "metadata": {
    "id": "Gcoz6PqjF_GY"
   },
   "source": [
    "Podemos também criar vetores/matrizes de números aleatórios"
   ]
  },
  {
   "cell_type": "code",
   "execution_count": 12,
   "metadata": {
    "id": "EWKetn9pF_GY",
    "outputId": "4ba930af-33ca-4b3e-9b5a-465d03fd0d24"
   },
   "outputs": [
    {
     "name": "stdout",
     "output_type": "stream",
     "text": [
      "[[ 0.08008833 -0.33558146  0.22597647]\n",
      " [-1.91194204 -1.87406245  1.70905597]\n",
      " [-1.50212807 -1.15607953 -1.14156476]\n",
      " [ 1.13518714  0.02253409  0.52232557]]\n"
     ]
    }
   ],
   "source": [
    "X = np.random.randn(4, 3) # Gera números aleatórios de uma normal\n",
    "print(X)"
   ]
  },
  {
   "cell_type": "markdown",
   "metadata": {
    "id": "jaWVTzBSF_GY"
   },
   "source": [
    "### Indexando\n",
    "\n",
    "Pegando a primeira linha"
   ]
  },
  {
   "cell_type": "code",
   "execution_count": 13,
   "metadata": {
    "id": "pZBYnBx6F_GZ",
    "outputId": "ffb7a6d0-40da-4ae8-92dc-0ddbff1a5d8e"
   },
   "outputs": [
    {
     "data": {
      "text/plain": [
       "array([ 0.08008833, -0.33558146,  0.22597647])"
      ]
     },
     "execution_count": 13,
     "metadata": {},
     "output_type": "execute_result"
    }
   ],
   "source": [
    "X[0] # observe que 0 é a linha 1, compare com o X[0, 1] de antes."
   ]
  },
  {
   "cell_type": "code",
   "execution_count": 14,
   "metadata": {
    "id": "g5-yaY7VF_Ga",
    "outputId": "b7a24f14-cc58-4cbf-c064-4cfdeada8554"
   },
   "outputs": [
    {
     "data": {
      "text/plain": [
       "array([-1.91194204, -1.87406245,  1.70905597])"
      ]
     },
     "execution_count": 14,
     "metadata": {},
     "output_type": "execute_result"
    }
   ],
   "source": [
    "X[1] # segunda"
   ]
  },
  {
   "cell_type": "code",
   "execution_count": 15,
   "metadata": {
    "id": "_6yLfdHKF_Ga",
    "outputId": "be65cb71-d636-40b2-f1bf-bcb76e09c64c"
   },
   "outputs": [
    {
     "data": {
      "text/plain": [
       "array([-1.50212807, -1.15607953, -1.14156476])"
      ]
     },
     "execution_count": 15,
     "metadata": {},
     "output_type": "execute_result"
    }
   ],
   "source": [
    "X[2] # terceira"
   ]
  },
  {
   "cell_type": "markdown",
   "metadata": {
    "id": "PrVx9yzMF_Ga"
   },
   "source": [
    "Observe como todos os tipos retornados são `array`. Array é o nome genérico de Numpy para vetores e matrizes."
   ]
  },
  {
   "cell_type": "markdown",
   "metadata": {
    "id": "QpHvq7VWF_Ga"
   },
   "source": [
    "`X[:, c]` pega uma coluna"
   ]
  },
  {
   "cell_type": "code",
   "execution_count": 16,
   "metadata": {
    "id": "w_cVhyqkF_Gb",
    "outputId": "38517e10-7143-475a-b157-2c5d33ecf2ea"
   },
   "outputs": [
    {
     "data": {
      "text/plain": [
       "array([ 0.08008833, -1.91194204, -1.50212807,  1.13518714])"
      ]
     },
     "execution_count": 16,
     "metadata": {},
     "output_type": "execute_result"
    }
   ],
   "source": [
    "X[:, 0]"
   ]
  },
  {
   "cell_type": "code",
   "execution_count": 17,
   "metadata": {
    "id": "eTKnUaxhF_Gb",
    "outputId": "d29328be-e5ce-443f-cf19-1210b0d50b67"
   },
   "outputs": [
    {
     "data": {
      "text/plain": [
       "array([-0.33558146, -1.87406245, -1.15607953,  0.02253409])"
      ]
     },
     "execution_count": 17,
     "metadata": {},
     "output_type": "execute_result"
    }
   ],
   "source": [
    "X[:, 1]"
   ]
  },
  {
   "cell_type": "markdown",
   "metadata": {
    "id": "KDwzuPwsF_Gb"
   },
   "source": [
    "`X[um_vetor]` pega as linhas da matriz. `X[:, um_vetor]` pega as colunas"
   ]
  },
  {
   "cell_type": "code",
   "execution_count": 18,
   "metadata": {
    "id": "roi7xnRfF_Gb",
    "outputId": "d9b51520-ba4a-4c96-f64a-8edaf9659d37"
   },
   "outputs": [
    {
     "data": {
      "text/plain": [
       "array([[ 0.08008833, -0.33558146,  0.22597647],\n",
       "       [ 0.08008833, -0.33558146,  0.22597647],\n",
       "       [-1.91194204, -1.87406245,  1.70905597]])"
      ]
     },
     "execution_count": 18,
     "metadata": {},
     "output_type": "execute_result"
    }
   ],
   "source": [
    "X[[0, 0, 1]] # observe que pego a primeira linha, indexada por 0, duas vezes"
   ]
  },
  {
   "cell_type": "markdown",
   "metadata": {
    "id": "mze22FbrF_Gc"
   },
   "source": [
    "Abaixo pego a segunda a primeira coluna"
   ]
  },
  {
   "cell_type": "code",
   "execution_count": 19,
   "metadata": {
    "id": "F0C_kW-NF_Gc",
    "outputId": "d35afa42-151c-4b94-cce9-3df134d144f1"
   },
   "outputs": [
    {
     "data": {
      "text/plain": [
       "array([[-0.33558146,  0.08008833],\n",
       "       [-1.87406245, -1.91194204],\n",
       "       [-1.15607953, -1.50212807],\n",
       "       [ 0.02253409,  1.13518714]])"
      ]
     },
     "execution_count": 19,
     "metadata": {},
     "output_type": "execute_result"
    }
   ],
   "source": [
    "X[:, [1, 0]]"
   ]
  },
  {
   "cell_type": "markdown",
   "metadata": {
    "id": "gDYVWr4uF_Gc"
   },
   "source": [
    "### Indexação Booleana\n",
    "\n",
    "`X[vetor_booleano]` retorna as linhas (ou colunas quando X[:, vetor_booleano]) onde o vetor é true"
   ]
  },
  {
   "cell_type": "code",
   "execution_count": 20,
   "metadata": {
    "id": "0dBzNRSAF_Gc",
    "outputId": "f8a2858c-5ed2-48b7-f8f6-0228e443acc8"
   },
   "outputs": [
    {
     "data": {
      "text/plain": [
       "array([[ 0.08008833, -0.33558146,  0.22597647],\n",
       "       [-1.50212807, -1.15607953, -1.14156476]])"
      ]
     },
     "execution_count": 20,
     "metadata": {},
     "output_type": "execute_result"
    }
   ],
   "source": [
    "X[[True, False, True, False]]"
   ]
  },
  {
   "cell_type": "code",
   "execution_count": 21,
   "metadata": {
    "id": "iTnoZJ7AF_Gc",
    "outputId": "77f550a2-f757-4e13-b711-14c6f77ab8dc"
   },
   "outputs": [
    {
     "data": {
      "text/plain": [
       "array([[-0.33558146,  0.22597647],\n",
       "       [-1.87406245,  1.70905597],\n",
       "       [-1.15607953, -1.14156476],\n",
       "       [ 0.02253409,  0.52232557]])"
      ]
     },
     "execution_count": 21,
     "metadata": {},
     "output_type": "execute_result"
    }
   ],
   "source": [
    "X[:, [False, True, True]]"
   ]
  },
  {
   "cell_type": "markdown",
   "metadata": {
    "id": "iO9lU_cPF_Gd"
   },
   "source": [
    "### Reshape, Flatten e Ravel\n",
    "\n",
    "Todo vetor ou matriz pode ser redimensionado. Observe como uma matriz abaixo de 9x8=72 elementos. Podemos redimensionar os mesmos para outros arrays de tamanho 72."
   ]
  },
  {
   "cell_type": "code",
   "execution_count": 22,
   "metadata": {
    "id": "FZ-PmqrNF_Gd"
   },
   "outputs": [],
   "source": [
    "X = np.random.randn(9, 8)"
   ]
  },
  {
   "cell_type": "markdown",
   "metadata": {
    "id": "XdrVE7BAF_Gd"
   },
   "source": [
    "Criando uma matriz de 18x4."
   ]
  },
  {
   "cell_type": "code",
   "execution_count": 23,
   "metadata": {
    "id": "OLHAtL5CF_Gk",
    "outputId": "e4c515e9-9a27-40d4-de2f-f27894badd3b"
   },
   "outputs": [
    {
     "data": {
      "text/plain": [
       "array([[-1.67541926,  1.14333243, -0.22970171,  0.15893694],\n",
       "       [ 0.40369321, -0.47658583, -1.30366614,  0.38156989],\n",
       "       [ 0.42102687,  1.19052683, -1.64523927,  0.14129543],\n",
       "       [ 0.89987253,  1.38878708, -1.10151276,  0.52185909],\n",
       "       [-0.0748259 , -0.20423983, -0.34650847, -1.05876161],\n",
       "       [-1.75718175,  1.22220316, -0.26591122,  0.89068943],\n",
       "       [ 2.26109279,  0.56003277, -0.56792759, -1.38762078],\n",
       "       [ 2.31391129,  0.32522935,  1.10486709, -0.15317494],\n",
       "       [-0.04206326,  1.51913771, -0.32382665,  0.45702586],\n",
       "       [ 0.8910469 ,  0.00461699, -1.28152186, -0.23569387],\n",
       "       [ 0.02829409,  0.70107653,  1.2229168 ,  0.49403569],\n",
       "       [-0.54282764,  0.54047786,  0.76483247,  0.54050678],\n",
       "       [-0.47346831, -0.55659088,  1.1690604 , -0.29561894],\n",
       "       [ 0.52790442,  0.45876762, -1.71205074,  0.05724736],\n",
       "       [ 2.28452586,  1.27243456,  0.41651134, -1.69968893],\n",
       "       [-0.9070838 , -0.70527535,  3.01200643, -0.27074053],\n",
       "       [-1.08608393, -0.51275182,  0.74431649,  1.25366854],\n",
       "       [ 0.87571435, -0.40375787, -0.33315968, -1.32585295]])"
      ]
     },
     "execution_count": 23,
     "metadata": {},
     "output_type": "execute_result"
    }
   ],
   "source": [
    "X.reshape((18, 4))"
   ]
  },
  {
   "cell_type": "markdown",
   "metadata": {
    "id": "3YcPQ_cGF_Gl"
   },
   "source": [
    "Ou um vetor de 72"
   ]
  },
  {
   "cell_type": "code",
   "execution_count": 24,
   "metadata": {
    "id": "mWsEju1qF_Gl",
    "outputId": "4ae7dcd1-6530-408d-8a08-f803b8b959d3"
   },
   "outputs": [
    {
     "data": {
      "text/plain": [
       "array([-1.67541926,  1.14333243, -0.22970171,  0.15893694,  0.40369321,\n",
       "       -0.47658583, -1.30366614,  0.38156989,  0.42102687,  1.19052683,\n",
       "       -1.64523927,  0.14129543,  0.89987253,  1.38878708, -1.10151276,\n",
       "        0.52185909, -0.0748259 , -0.20423983, -0.34650847, -1.05876161,\n",
       "       -1.75718175,  1.22220316, -0.26591122,  0.89068943,  2.26109279,\n",
       "        0.56003277, -0.56792759, -1.38762078,  2.31391129,  0.32522935,\n",
       "        1.10486709, -0.15317494, -0.04206326,  1.51913771, -0.32382665,\n",
       "        0.45702586,  0.8910469 ,  0.00461699, -1.28152186, -0.23569387,\n",
       "        0.02829409,  0.70107653,  1.2229168 ,  0.49403569, -0.54282764,\n",
       "        0.54047786,  0.76483247,  0.54050678, -0.47346831, -0.55659088,\n",
       "        1.1690604 , -0.29561894,  0.52790442,  0.45876762, -1.71205074,\n",
       "        0.05724736,  2.28452586,  1.27243456,  0.41651134, -1.69968893,\n",
       "       -0.9070838 , -0.70527535,  3.01200643, -0.27074053, -1.08608393,\n",
       "       -0.51275182,  0.74431649,  1.25366854,  0.87571435, -0.40375787,\n",
       "       -0.33315968, -1.32585295])"
      ]
     },
     "execution_count": 24,
     "metadata": {},
     "output_type": "execute_result"
    }
   ],
   "source": [
    "X.reshape(72)"
   ]
  },
  {
   "cell_type": "markdown",
   "metadata": {
    "id": "k7fB1W7lF_Gl"
   },
   "source": [
    "A chamada flatten e ravel faz a mesma coisa, criam uma visão de uma dimensão da matriz."
   ]
  },
  {
   "cell_type": "code",
   "execution_count": 25,
   "metadata": {
    "id": "3bwXKQSvF_Gm",
    "outputId": "db5355eb-9ba0-4083-8005-a2a201d59eb4"
   },
   "outputs": [
    {
     "data": {
      "text/plain": [
       "array([-1.67541926,  1.14333243, -0.22970171,  0.15893694,  0.40369321,\n",
       "       -0.47658583, -1.30366614,  0.38156989,  0.42102687,  1.19052683,\n",
       "       -1.64523927,  0.14129543,  0.89987253,  1.38878708, -1.10151276,\n",
       "        0.52185909, -0.0748259 , -0.20423983, -0.34650847, -1.05876161,\n",
       "       -1.75718175,  1.22220316, -0.26591122,  0.89068943,  2.26109279,\n",
       "        0.56003277, -0.56792759, -1.38762078,  2.31391129,  0.32522935,\n",
       "        1.10486709, -0.15317494, -0.04206326,  1.51913771, -0.32382665,\n",
       "        0.45702586,  0.8910469 ,  0.00461699, -1.28152186, -0.23569387,\n",
       "        0.02829409,  0.70107653,  1.2229168 ,  0.49403569, -0.54282764,\n",
       "        0.54047786,  0.76483247,  0.54050678, -0.47346831, -0.55659088,\n",
       "        1.1690604 , -0.29561894,  0.52790442,  0.45876762, -1.71205074,\n",
       "        0.05724736,  2.28452586,  1.27243456,  0.41651134, -1.69968893,\n",
       "       -0.9070838 , -0.70527535,  3.01200643, -0.27074053, -1.08608393,\n",
       "       -0.51275182,  0.74431649,  1.25366854,  0.87571435, -0.40375787,\n",
       "       -0.33315968, -1.32585295])"
      ]
     },
     "execution_count": 25,
     "metadata": {},
     "output_type": "execute_result"
    }
   ],
   "source": [
    "X.flatten()"
   ]
  },
  {
   "cell_type": "code",
   "execution_count": 26,
   "metadata": {
    "id": "SVMSxvIQF_Gm",
    "outputId": "c6dbbf99-3f52-49a5-839b-bc6a5d38c657"
   },
   "outputs": [
    {
     "data": {
      "text/plain": [
       "array([-1.67541926,  1.14333243, -0.22970171,  0.15893694,  0.40369321,\n",
       "       -0.47658583, -1.30366614,  0.38156989,  0.42102687,  1.19052683,\n",
       "       -1.64523927,  0.14129543,  0.89987253,  1.38878708, -1.10151276,\n",
       "        0.52185909, -0.0748259 , -0.20423983, -0.34650847, -1.05876161,\n",
       "       -1.75718175,  1.22220316, -0.26591122,  0.89068943,  2.26109279,\n",
       "        0.56003277, -0.56792759, -1.38762078,  2.31391129,  0.32522935,\n",
       "        1.10486709, -0.15317494, -0.04206326,  1.51913771, -0.32382665,\n",
       "        0.45702586,  0.8910469 ,  0.00461699, -1.28152186, -0.23569387,\n",
       "        0.02829409,  0.70107653,  1.2229168 ,  0.49403569, -0.54282764,\n",
       "        0.54047786,  0.76483247,  0.54050678, -0.47346831, -0.55659088,\n",
       "        1.1690604 , -0.29561894,  0.52790442,  0.45876762, -1.71205074,\n",
       "        0.05724736,  2.28452586,  1.27243456,  0.41651134, -1.69968893,\n",
       "       -0.9070838 , -0.70527535,  3.01200643, -0.27074053, -1.08608393,\n",
       "       -0.51275182,  0.74431649,  1.25366854,  0.87571435, -0.40375787,\n",
       "       -0.33315968, -1.32585295])"
      ]
     },
     "execution_count": 26,
     "metadata": {},
     "output_type": "execute_result"
    }
   ],
   "source": [
    "X.ravel()"
   ]
  },
  {
   "cell_type": "markdown",
   "metadata": {
    "id": "vrQHBW81F_Gm"
   },
   "source": [
    "As funções incorporadas ao NumPy podem ser facilmente chamadas em matrizes. A maioria das funções são aplicadas a um elemento de array (como a multiplicação escalar). Por exemplo, se chamarmos `log()` em um array, o logaritmo será obtido de cada elemento."
   ]
  },
  {
   "cell_type": "code",
   "execution_count": 27,
   "metadata": {
    "id": "_96GRhrYF_Gn",
    "outputId": "1b1fbe90-4167-4028-cc8c-9e788b0202fd"
   },
   "outputs": [
    {
     "data": {
      "text/plain": [
       "array([1.25276297, 1.60943791, 0.69314718, 2.07944154, 1.43508453])"
      ]
     },
     "execution_count": 27,
     "metadata": {},
     "output_type": "execute_result"
    }
   ],
   "source": [
    "np.log(data)"
   ]
  },
  {
   "cell_type": "markdown",
   "metadata": {
    "id": "VEoIZ496F_Gn"
   },
   "source": [
    "Mean tira a média"
   ]
  },
  {
   "cell_type": "code",
   "execution_count": 28,
   "metadata": {
    "id": "ZvAwXHifF_Go",
    "outputId": "2aeb042a-9439-4dce-a6e6-f12a6fd02d0e"
   },
   "outputs": [
    {
     "data": {
      "text/plain": [
       "4.54"
      ]
     },
     "execution_count": 28,
     "metadata": {},
     "output_type": "execute_result"
    }
   ],
   "source": [
    "np.mean(data)"
   ]
  },
  {
   "cell_type": "markdown",
   "metadata": {
    "id": "lN3nP20AF_Go"
   },
   "source": [
    "Algumas funções podem ser chamadas direto no vetor, nem todas serão assim. O importante é ler a [documentação](http://numpy.org) e aprender. Com um pouco de prática você vai se acostumando."
   ]
  },
  {
   "cell_type": "code",
   "execution_count": 29,
   "metadata": {
    "id": "L42reyC7F_Go",
    "outputId": "8c46b3ec-f819-4af6-cd2c-2428bd6446d2"
   },
   "outputs": [
    {
     "data": {
      "text/plain": [
       "4.54"
      ]
     },
     "execution_count": 29,
     "metadata": {},
     "output_type": "execute_result"
    }
   ],
   "source": [
    "data.mean()"
   ]
  },
  {
   "cell_type": "markdown",
   "metadata": {
    "id": "MrixQft1F_Go"
   },
   "source": [
    "Abaixo temos a mediana,"
   ]
  },
  {
   "cell_type": "code",
   "execution_count": 30,
   "metadata": {
    "id": "LsjUEaDCF_Gp",
    "outputId": "bb9b79b2-bbe8-45ea-bee3-a50633bc2e88"
   },
   "outputs": [
    {
     "data": {
      "text/plain": [
       "4.2"
      ]
     },
     "execution_count": 30,
     "metadata": {},
     "output_type": "execute_result"
    }
   ],
   "source": [
    "np.median(data) # por exemplo, não existe data.median(). Faz sentido? Não. Mas é assim."
   ]
  },
  {
   "cell_type": "markdown",
   "metadata": {
    "id": "GAHoYeQiF_Gp"
   },
   "source": [
    "Em matrizes as funções operam em todos os elemntos."
   ]
  },
  {
   "cell_type": "code",
   "execution_count": 31,
   "metadata": {
    "id": "Wn-fcf_hF_Gp",
    "outputId": "59dca9fe-5597-4462-8a3c-2668e72be196"
   },
   "outputs": [
    {
     "data": {
      "text/plain": [
       "0.09927139526488152"
      ]
     },
     "execution_count": 31,
     "metadata": {},
     "output_type": "execute_result"
    }
   ],
   "source": [
    "np.median(X)"
   ]
  },
  {
   "cell_type": "code",
   "execution_count": 32,
   "metadata": {
    "id": "Sf1tI4-SF_Gq",
    "outputId": "c4f4b11b-114b-4449-8836-2cd82aee98a2"
   },
   "outputs": [
    {
     "data": {
      "text/plain": [
       "0.13345440496745864"
      ]
     },
     "execution_count": 32,
     "metadata": {},
     "output_type": "execute_result"
    }
   ],
   "source": [
    "X.mean()"
   ]
  },
  {
   "cell_type": "code",
   "execution_count": 33,
   "metadata": {
    "id": "jFMFUh19F_Gq",
    "outputId": "19349ef8-8a76-47ee-e700-cb3cd51cb7a0"
   },
   "outputs": [
    {
     "data": {
      "text/plain": [
       "array([[2.11921267, 2.41084133, 2.279347  , 2.31835381, 2.34216086,\n",
       "        2.25375342, 2.16290154, 2.34003211],\n",
       "       [2.34382558, 2.4150676 , 2.12283152, 2.31661574, 2.38875109,\n",
       "        2.43262928, 2.18588129, 2.35345491],\n",
       "       [2.29507437, 2.28194966, 2.26731967, 2.1906741 , 2.10934231,\n",
       "        2.41789424, 2.27563403, 2.38790824],\n",
       "       [2.50643106, 2.35707638, 2.24411584, 2.15320061, 2.51072962,\n",
       "        2.33459035, 2.40738349, 2.28714907],\n",
       "       [2.2983699 , 2.4440098 , 2.26966651, 2.34727408, 2.38794107,\n",
       "        2.30304669, 2.1654447 , 2.27873351],\n",
       "       [2.30541051, 2.37034435, 2.41795783, 2.35080707, 2.24677343,\n",
       "        2.35522288, 2.37628457, 2.35522562],\n",
       "       [2.25408072, 2.24531705, 2.41314749, 2.27257744, 2.3540293 ,\n",
       "        2.34744063, 2.11480256, 2.3082935 ],\n",
       "       [2.50834041, 2.42236033, 2.34339218, 2.11629299, 2.20749567,\n",
       "        2.229447  , 2.5658725 , 2.27513779],\n",
       "       [2.18761366, 2.2499486 , 2.37437692, 2.42069417, 2.38653226,\n",
       "        2.26137158, 2.26870151, 2.160347  ]])"
      ]
     },
     "execution_count": 33,
     "metadata": {},
     "output_type": "execute_result"
    }
   ],
   "source": [
    "np.log(X + 10)"
   ]
  },
  {
   "cell_type": "markdown",
   "metadata": {
    "id": "a0A6KzhbF_Gr"
   },
   "source": [
    "Porém, caso você queira a media de linhas ou colunas use `axis`. Antes, vamos ver o tamanho do vetor."
   ]
  },
  {
   "cell_type": "code",
   "execution_count": 34,
   "metadata": {
    "id": "I4-FNKJ9F_Gr",
    "outputId": "55cb8de6-d0f9-4be4-ede8-8019523a494a"
   },
   "outputs": [
    {
     "data": {
      "text/plain": [
       "(9, 8)"
      ]
     },
     "execution_count": 34,
     "metadata": {},
     "output_type": "execute_result"
    }
   ],
   "source": [
    "X.shape"
   ]
  },
  {
   "cell_type": "code",
   "execution_count": 35,
   "metadata": {
    "id": "Vl_T7B0SF_Gs",
    "outputId": "6697ae4c-7d1d-4f72-8bd4-28fb6e671f91"
   },
   "outputs": [
    {
     "data": {
      "text/plain": [
       "array([ 0.18256433,  0.56810648,  0.04884459, -0.21519198,  0.30056106,\n",
       "        0.261607  , -0.12401294,  0.04515669])"
      ]
     },
     "execution_count": 35,
     "metadata": {},
     "output_type": "execute_result"
    }
   ],
   "source": [
    "np.mean(X, axis=0) # média das colunas. como temos 8 colunas, temos 8 elementos."
   ]
  },
  {
   "cell_type": "code",
   "execution_count": 36,
   "metadata": {
    "id": "ZzZG3MxFF_Gs",
    "outputId": "bd0b6450-1ead-4476-9c25-8e282af03504"
   },
   "outputs": [
    {
     "data": {
      "text/plain": [
       "(8,)"
      ]
     },
     "execution_count": 36,
     "metadata": {},
     "output_type": "execute_result"
    }
   ],
   "source": [
    "np.mean(X, axis=0).shape"
   ]
  },
  {
   "cell_type": "code",
   "execution_count": 37,
   "metadata": {
    "id": "X2U4jgh_F_Gt",
    "outputId": "415c77dc-b597-4d23-a5f0-f71961ab3d6f"
   },
   "outputs": [
    {
     "data": {
      "text/plain": [
       "array([-0.19973006,  0.22707697, -0.19931702,  0.55705125,  0.12359023,\n",
       "        0.46866407, -0.10309363,  0.4253362 , -0.09848836])"
      ]
     },
     "execution_count": 37,
     "metadata": {},
     "output_type": "execute_result"
    }
   ],
   "source": [
    "np.mean(X, axis=1) # média das linhas"
   ]
  },
  {
   "cell_type": "code",
   "execution_count": 38,
   "metadata": {
    "id": "bFBnHgkZF_Gt",
    "outputId": "cd57bbfe-3e68-4b84-8317-a053e4fac713"
   },
   "outputs": [
    {
     "data": {
      "text/plain": [
       "(9,)"
      ]
     },
     "execution_count": 38,
     "metadata": {},
     "output_type": "execute_result"
    }
   ],
   "source": [
    "np.mean(X, axis=1).shape"
   ]
  },
  {
   "cell_type": "markdown",
   "metadata": {
    "id": "6joeJs0pF_Gu"
   },
   "source": [
    "Lembre-se que eixo 0 é coluna. Eixo 1 é linas."
   ]
  },
  {
   "cell_type": "markdown",
   "metadata": {
    "id": "0pU01aytF_Gu"
   },
   "source": [
    "### Multiplicação de Matrizes"
   ]
  },
  {
   "cell_type": "markdown",
   "metadata": {
    "id": "OUvpLTJaF_Gu"
   },
   "source": [
    "Para transpor uma matriz fazemos uso de .T"
   ]
  },
  {
   "cell_type": "code",
   "execution_count": 39,
   "metadata": {
    "id": "qKM1ykO2F_Gv",
    "outputId": "2b47561b-081f-4e9e-a175-0ae2eb1c7009"
   },
   "outputs": [
    {
     "data": {
      "text/plain": [
       "(9, 8)"
      ]
     },
     "execution_count": 39,
     "metadata": {},
     "output_type": "execute_result"
    }
   ],
   "source": [
    "X.shape"
   ]
  },
  {
   "cell_type": "code",
   "execution_count": 40,
   "metadata": {
    "id": "P9tWLcxWF_Gv",
    "outputId": "e011650e-6364-4fdf-e78c-9c2a1147906b"
   },
   "outputs": [
    {
     "data": {
      "text/plain": [
       "(8, 9)"
      ]
     },
     "execution_count": 40,
     "metadata": {},
     "output_type": "execute_result"
    }
   ],
   "source": [
    "X.T.shape"
   ]
  },
  {
   "cell_type": "code",
   "execution_count": 41,
   "metadata": {
    "id": "HqJ7l3TcF_Gv",
    "outputId": "44db13ad-4111-4771-8d6d-18a7de0f2b7c"
   },
   "outputs": [
    {
     "data": {
      "text/plain": [
       "array([[-1.67541926,  0.42102687, -0.0748259 ,  2.26109279, -0.04206326,\n",
       "         0.02829409, -0.47346831,  2.28452586, -1.08608393],\n",
       "       [ 1.14333243,  1.19052683, -0.20423983,  0.56003277,  1.51913771,\n",
       "         0.70107653, -0.55659088,  1.27243456, -0.51275182],\n",
       "       [-0.22970171, -1.64523927, -0.34650847, -0.56792759, -0.32382665,\n",
       "         1.2229168 ,  1.1690604 ,  0.41651134,  0.74431649],\n",
       "       [ 0.15893694,  0.14129543, -1.05876161, -1.38762078,  0.45702586,\n",
       "         0.49403569, -0.29561894, -1.69968893,  1.25366854],\n",
       "       [ 0.40369321,  0.89987253, -1.75718175,  2.31391129,  0.8910469 ,\n",
       "        -0.54282764,  0.52790442, -0.9070838 ,  0.87571435],\n",
       "       [-0.47658583,  1.38878708,  1.22220316,  0.32522935,  0.00461699,\n",
       "         0.54047786,  0.45876762, -0.70527535, -0.40375787],\n",
       "       [-1.30366614, -1.10151276, -0.26591122,  1.10486709, -1.28152186,\n",
       "         0.76483247, -1.71205074,  3.01200643, -0.33315968],\n",
       "       [ 0.38156989,  0.52185909,  0.89068943, -0.15317494, -0.23569387,\n",
       "         0.54050678,  0.05724736, -0.27074053, -1.32585295]])"
      ]
     },
     "execution_count": 41,
     "metadata": {},
     "output_type": "execute_result"
    }
   ],
   "source": [
    "X.T"
   ]
  },
  {
   "cell_type": "markdown",
   "metadata": {
    "id": "bKdMUKTVF_Gw"
   },
   "source": [
    "Para multiplicar matrizes, do ponto de visto de multiplicação matricial como definido na álgebra linear, fazemos uso de `@`."
   ]
  },
  {
   "cell_type": "code",
   "execution_count": 42,
   "metadata": {
    "id": "WQb6meF5F_Gw",
    "outputId": "ea4c2cea-a746-4ca9-ee2c-8d042d0e4fd6"
   },
   "outputs": [
    {
     "data": {
      "text/plain": [
       "array([[ 6.42750581,  2.39266955, -0.80215933, -3.95777922,  3.89262701,\n",
       "        -0.7157915 ,  2.08962531, -6.79855622,  1.73605225],\n",
       "       [ 2.39266955,  8.54556182,  1.01969379,  3.59396577,  4.48506677,\n",
       "        -1.39389414,  0.20076509, -3.70349387, -2.21278758],\n",
       "       [-0.80215933,  1.01969379,  6.73386178, -2.71631217, -2.10804122,\n",
       "         0.80034477,  0.19633271,  0.91426644, -4.52385225],\n",
       "       [-3.95777922,  3.59396577, -2.71631217, 14.37836393,  0.98888561,\n",
       "        -1.24149058, -2.16562826,  9.04115516, -3.17522706],\n",
       "       [ 3.89262701,  4.48506677, -2.10804122,  0.98888561,  5.11512083,\n",
       "        -0.69511749,  1.31374235, -3.68242122,  1.11655827],\n",
       "       [-0.7157915 , -1.39389414,  0.80034477, -1.24149058, -0.69511749,\n",
       "         3.69580005, -0.43708864,  2.89491198, -0.52564188],\n",
       "       [ 2.08962531,  0.20076509,  0.19633271, -2.16562826,  1.31374235,\n",
       "        -0.43708864,  5.41160422, -6.77510695,  2.07070921],\n",
       "       [-6.79855622, -3.70349387,  0.91426644,  9.04115516, -3.68242122,\n",
       "         2.89491198, -6.77510695, 20.36626977, -6.10856303],\n",
       "       [ 1.73605225, -2.21278758, -4.52385225, -3.17522706,  1.11655827,\n",
       "        -0.52564188,  2.07070921, -6.10856303,  6.36696202]])"
      ]
     },
     "execution_count": 42,
     "metadata": {},
     "output_type": "execute_result"
    }
   ],
   "source": [
    "X @ X.T"
   ]
  },
  {
   "cell_type": "markdown",
   "metadata": {
    "id": "FCHnD8eDF_Gw"
   },
   "source": [
    "O uso de `*` realiza uma operação ponto a ponto"
   ]
  },
  {
   "cell_type": "code",
   "execution_count": 43,
   "metadata": {
    "id": "MTv2Fq9QF_Gw",
    "outputId": "0d61a3c5-eeb3-4056-eee2-326c580062fc"
   },
   "outputs": [
    {
     "data": {
      "text/plain": [
       "array([[2.80702968e+00, 1.30720905e+00, 5.27628763e-02, 2.52609519e-02,\n",
       "        1.62968207e-01, 2.27134050e-01, 1.69954541e+00, 1.45595581e-01],\n",
       "       [1.77263626e-01, 1.41735413e+00, 2.70681227e+00, 1.99643993e-02,\n",
       "        8.09770576e-01, 1.92872956e+00, 1.21333037e+00, 2.72336905e-01],\n",
       "       [5.59891560e-03, 4.17139096e-02, 1.20068121e-01, 1.12097614e+00,\n",
       "        3.08768769e+00, 1.49378056e+00, 7.07087759e-02, 7.93327663e-01],\n",
       "       [5.11254062e+00, 3.13636707e-01, 3.22541753e-01, 1.92549143e+00,\n",
       "        5.35418545e+00, 1.05774130e-01, 1.22073128e+00, 2.34625612e-02],\n",
       "       [1.76931765e-03, 2.30777938e+00, 1.04863699e-01, 2.08872640e-01,\n",
       "        7.93964581e-01, 2.13165800e-05, 1.64229829e+00, 5.55515997e-02],\n",
       "       [8.00555661e-04, 4.91508295e-01, 1.49552549e+00, 2.44071260e-01,\n",
       "        2.94661843e-01, 2.92116316e-01, 5.84968709e-01, 2.92147576e-01],\n",
       "       [2.24172237e-01, 3.09793402e-01, 1.36670222e+00, 8.73905583e-02,\n",
       "        2.78683076e-01, 2.10467730e-01, 2.93111774e+00, 3.27725998e-03],\n",
       "       [5.21905841e+00, 1.61908970e+00, 1.73481697e-01, 2.88894247e+00,\n",
       "        8.22801014e-01, 4.97413323e-01, 9.07218272e+00, 7.33004363e-02],\n",
       "       [1.17957829e+00, 2.62914431e-01, 5.54007035e-01, 1.57168481e+00,\n",
       "        7.66875624e-01, 1.63020414e-01, 1.10995373e-01, 1.75788605e+00]])"
      ]
     },
     "execution_count": 43,
     "metadata": {},
     "output_type": "execute_result"
    }
   ],
   "source": [
    "X * X"
   ]
  },
  {
   "cell_type": "markdown",
   "metadata": {
    "id": "_tHhyuSdF_Gx"
   },
   "source": [
    "Observe a diferença de tamanhos"
   ]
  },
  {
   "cell_type": "code",
   "execution_count": 44,
   "metadata": {
    "id": "vnMdYknFF_Gx",
    "outputId": "48e76793-2819-4a48-aefc-caa51d066f1b"
   },
   "outputs": [
    {
     "data": {
      "text/plain": [
       "(9, 8)"
      ]
     },
     "execution_count": 44,
     "metadata": {},
     "output_type": "execute_result"
    }
   ],
   "source": [
    "(X * X).shape"
   ]
  },
  {
   "cell_type": "code",
   "execution_count": 45,
   "metadata": {
    "id": "W02N8h64F_Gx",
    "outputId": "cb2b0883-7f8b-48a9-b96d-185fea041ca1"
   },
   "outputs": [
    {
     "data": {
      "text/plain": [
       "(9, 9)"
      ]
     },
     "execution_count": 45,
     "metadata": {},
     "output_type": "execute_result"
    }
   ],
   "source": [
    "(X @ X.T).shape"
   ]
  },
  {
   "cell_type": "markdown",
   "metadata": {
    "id": "V2FwXqmnF_Gy"
   },
   "source": [
    "**Pense:** Para o nosso `X` de tamanho `(9, 8)`, qual o motivo de `X * X.T` não funcionar? Qual o motivo de `X @ X` não funcionar?"
   ]
  },
  {
   "cell_type": "markdown",
   "metadata": {
    "id": "w1VQsgB2F_Gy"
   },
   "source": [
    "## Correção Automática\n",
    "\n",
    "Nossa correção automática depende das funções abaixo. Tais funções comparam valores que serão computados pelo seu código com uma saída esperada. Normalmente, vocês não fazer uso de tais funções em notebooks como este. Porém, elas são chave em ambientes de testes automáticos (fora do nosso escopo).\n",
    "\n",
    "Observe como algumas funções comparam valores e outras comparam vetores. Além do mais, temos funções para comparar dentro de algumas casas decimais."
   ]
  },
  {
   "cell_type": "code",
   "execution_count": 46,
   "metadata": {
    "id": "ZLVIOcHFF_Gz"
   },
   "outputs": [],
   "source": [
    "from numpy.testing import assert_almost_equal\n",
    "from numpy.testing import assert_equal\n",
    "\n",
    "from numpy.testing import assert_array_almost_equal\n",
    "from numpy.testing import assert_array_equal"
   ]
  },
  {
   "cell_type": "code",
   "execution_count": 47,
   "metadata": {
    "id": "S0qZCntiF_Gz"
   },
   "outputs": [],
   "source": [
    "# caso você mude um dos valores vamos receber um erro!\n",
    "assert_array_equal(2, 2)\n",
    "\n",
    "# caso você mude um dos valores vamos receber um erro!\n",
    "assert_array_equal([1, 2], [1, 2])\n",
    "\n",
    "# caso você mude um dos valores vamos receber um erro!\n",
    "assert_almost_equal(3.1415, 3.14, 1)"
   ]
  },
  {
   "cell_type": "markdown",
   "metadata": {
    "id": "WmIrWmxTF_G0"
   },
   "source": [
    "Caso você mude um dos valores abaixo vamos receber um erro! Como o abaixo.\n",
    "\n",
    "```\n",
    "-----------------------------------------------------------------------\n",
    "AssertionError                        Traceback (most recent call last)\n",
    "<ipython-input-10-396672d880f2> in <module>\n",
    "----> 1 assert_equal(2, 3) # caso você mude um dos valores vamos receber um erro!\n",
    "\n",
    "~/miniconda3/lib/python3.7/site-packages/numpy/testing/_private/utils.py in assert_equal(actual, desired, err_msg, verbose)\n",
    "    413         # Explicitly use __eq__ for comparison, gh-2552\n",
    "    414         if not (desired == actual):\n",
    "--> 415             raise AssertionError(msg)\n",
    "    416\n",
    "    417     except (DeprecationWarning, FutureWarning) as e:\n",
    "\n",
    "AssertionError:\n",
    "Items are not equal:\n",
    " ACTUAL: 2\n",
    " DESIRED: 3\n",
    " ```"
   ]
  },
  {
   "cell_type": "markdown",
   "metadata": {
    "id": "sJRxorJfF_G0"
   },
   "source": [
    "É essencial que todo seu código execute sem erros! Portanto, antes de submeter clique em `Kernel` no menu acima. Depois clique em `Restart & Execute All.`\n",
    "\n",
    "**Garanta que o notebook executa até o fim!** Isto é, sem erros como o acima."
   ]
  },
  {
   "cell_type": "markdown",
   "metadata": {
    "id": "JBv03G8aF_G0"
   },
   "source": [
    "## Funções em Python"
   ]
  },
  {
   "cell_type": "markdown",
   "metadata": {
    "id": "XpZ2YV4QF_G0"
   },
   "source": [
    "Para criar uma função em Python fazemos uso da palavra-chave:\n",
    "```python\n",
    "def\n",
    "```\n",
    "\n",
    "Todos nossos exercícios farão uso de funções. **Mantenha a assinatura das funções exatamente como requisitado, a correção automática depende disso.** Abaixo, temos um exempo de uma função que imprime algo na tela!"
   ]
  },
  {
   "cell_type": "code",
   "execution_count": 48,
   "metadata": {
    "id": "YDAOhdTRF_G1"
   },
   "outputs": [],
   "source": [
    "def print_something(txt):\n",
    "    print(f'Voce passou o argumento: {txt}')"
   ]
  },
  {
   "cell_type": "code",
   "execution_count": 49,
   "metadata": {
    "id": "h3odE8RRF_G1",
    "outputId": "9241faf8-ca96-4670-967d-f6c99f0da2dd"
   },
   "outputs": [
    {
     "name": "stdout",
     "output_type": "stream",
     "text": [
      "Voce passou o argumento: DCC 212\n"
     ]
    }
   ],
   "source": [
    "print_something('DCC 212')"
   ]
  },
  {
   "cell_type": "markdown",
   "metadata": {
    "id": "j59QvlBnF_G1"
   },
   "source": [
    "Podemos também dizer o tipo do argumento, porém faremos pouco uso disto em ICD."
   ]
  },
  {
   "cell_type": "code",
   "execution_count": 50,
   "metadata": {
    "id": "KFlH8tEdF_G1"
   },
   "outputs": [],
   "source": [
    "def print_something(txt: str):\n",
    "    print(f'Voce passou o argumento: {txt}')"
   ]
  },
  {
   "cell_type": "code",
   "execution_count": 51,
   "metadata": {
    "id": "bXPNDCXXF_G2",
    "outputId": "aedc55f3-7b80-4adf-a3e8-34e7e142accf"
   },
   "outputs": [
    {
     "name": "stdout",
     "output_type": "stream",
     "text": [
      "Voce passou o argumento: DCC 212\n"
     ]
    }
   ],
   "source": [
    "print_something('DCC 212')"
   ]
  },
  {
   "cell_type": "markdown",
   "metadata": {
    "id": "B-4ej5F-F_G2"
   },
   "source": [
    "Abaixo temos uma função que soma, a soma, dois vetores"
   ]
  },
  {
   "cell_type": "code",
   "execution_count": 52,
   "metadata": {
    "id": "uOJcADJgF_G2"
   },
   "outputs": [],
   "source": [
    "def sum_of_sum_vectors(array_1, array_2):\n",
    "    return (array_1 + array_2).sum()"
   ]
  },
  {
   "cell_type": "code",
   "execution_count": 53,
   "metadata": {
    "id": "P-zF4NygF_G3"
   },
   "outputs": [],
   "source": [
    "x = np.array([1, 2])\n",
    "y = np.array([1, 2])"
   ]
  },
  {
   "cell_type": "code",
   "execution_count": 54,
   "metadata": {
    "id": "0quv_dR0F_G3",
    "outputId": "79eeb2ed-194b-4966-806c-a8fa38117256"
   },
   "outputs": [
    {
     "data": {
      "text/plain": [
       "6"
      ]
     },
     "execution_count": 54,
     "metadata": {},
     "output_type": "execute_result"
    }
   ],
   "source": [
    "sum_of_sum_vectors(x, y)"
   ]
  },
  {
   "cell_type": "markdown",
   "metadata": {
    "id": "Q5EO-TpNF_G3"
   },
   "source": [
    "Abaixo temos um teste, tais testes vão avaliar o seu código. Nem todos estão aqui no notebook!"
   ]
  },
  {
   "cell_type": "code",
   "execution_count": 55,
   "metadata": {
    "id": "TM6O4cpCF_G4"
   },
   "outputs": [],
   "source": [
    "assert_equal(6, sum_of_sum_vectors(x, y))"
   ]
  },
  {
   "cell_type": "markdown",
   "metadata": {
    "id": "1DByVkIYF_G4"
   },
   "source": [
    "## Exercício 01\n",
    "\n",
    "Inicialmente, crie uma função que recebe duas listas de números, converte as duas para um vetor numpy usando `np.array` e retorna o produto interno das duas listas.\n",
    "\n",
    "__Dicas:__  \n",
    "1. Tente fazer um código sem nenhum **for**! Ou seja, numpy permite operações em vetores e matrizes, onde: `np.array([1, 2]) + np.array([2, 2]) = np.array([3, 4])`.\n",
    "\n",
    "__Funções:__\n",
    "1. `np.sum(array)` soma os elementos do array. `array.sum()` tem o mesmo efeito!"
   ]
  },
  {
   "cell_type": "code",
   "execution_count": 58,
   "metadata": {
    "id": "_7ZzVSCTF_G4"
   },
   "outputs": [],
   "source": [
    "def inner(array_1, array_2):\n",
    "    return np.inner(array_1, array_2)"
   ]
  },
  {
   "cell_type": "code",
   "execution_count": 59,
   "metadata": {
    "id": "3FLFTiV-F_G4"
   },
   "outputs": [],
   "source": [
    "x1 = np.array([2, 4, 8])\n",
    "x2 = np.array([10, 100, 1000])\n",
    "assert_equal(20 + 400 + 8000, inner(x1, x2))"
   ]
  },
  {
   "cell_type": "markdown",
   "metadata": {
    "id": "BiNHhoN9F_G5"
   },
   "source": [
    "## Exercício 02\n",
    "\n",
    "Implemente uma função utilizando numpy que recebe duas matrizes, multiplica as duas e retorne o valor médio das células da multiplicação. Por exemplo, ao multiplicar:\n",
    "\n",
    "```\n",
    "[1 2]\n",
    "[3 4]\n",
    "\n",
    "com\n",
    "\n",
    "[2 1]\n",
    "[1 2]\n",
    "\n",
    "temos\n",
    "\n",
    "[4  5 ]\n",
    "[10 11]\n",
    "\n",
    "onde a média de [4, 5, 10, 11] é\n",
    "\n",
    "7.5, sua resposta final!\n",
    "```\n",
    "\n",
    "\n",
    "__Dicas:__  \n",
    "1. Use o operador @ para multiplicar matrizes!"
   ]
  },
  {
   "cell_type": "code",
   "execution_count": 60,
   "metadata": {
    "id": "x3hZ-9crF_G5"
   },
   "outputs": [],
   "source": [
    "def medmult(X_1, X_2):\n",
    "    return np.dot(X_1, X_2).mean()"
   ]
  },
  {
   "cell_type": "code",
   "execution_count": 61,
   "metadata": {
    "id": "PUZHe6QDF_G5"
   },
   "outputs": [],
   "source": [
    "X = np.array([1, 2, 3, 4]).reshape(2, 2)\n",
    "Y = np.array([2, 1, 1, 2]).reshape(2, 2)\n",
    "assert_equal(7.5, medmult(X, Y))"
   ]
  },
  {
   "cell_type": "code",
   "execution_count": null,
   "metadata": {
    "id": "0ulv0xPwF_G5"
   },
   "outputs": [],
   "source": []
  }
 ],
 "metadata": {
  "colab": {
   "provenance": []
  },
  "kernelspec": {
   "display_name": "Python 3 (ipykernel)",
   "language": "python",
   "name": "python3"
  },
  "language_info": {
   "codemirror_mode": {
    "name": "ipython",
    "version": 3
   },
   "file_extension": ".py",
   "mimetype": "text/x-python",
   "name": "python",
   "nbconvert_exporter": "python",
   "pygments_lexer": "ipython3",
   "version": "3.11.0"
  }
 },
 "nbformat": 4,
 "nbformat_minor": 4
}
