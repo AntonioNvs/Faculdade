{
 "cells": [
  {
   "cell_type": "code",
   "execution_count": 14,
   "id": "07eec3bd-bc96-4d31-98da-e92a196f5490",
   "metadata": {},
   "outputs": [],
   "source": [
    "# pip install termcolor\n",
    "import pandas as pd\n",
    "from termcolor import colored"
   ]
  },
  {
   "cell_type": "code",
   "execution_count": 15,
   "id": "40f69687-ee12-4a53-af95-b6bdd93ca421",
   "metadata": {},
   "outputs": [],
   "source": [
    "file_one = \"2022043698.csv\"\n",
    "file_two = \"2022043574.csv\""
   ]
  },
  {
   "cell_type": "code",
   "execution_count": 16,
   "id": "94e9dc55-6fc9-486a-a880-e5054b45a8e8",
   "metadata": {},
   "outputs": [],
   "source": [
    "def remove_odds_columns(filename):\n",
    "    df = pd.read_csv(filename, encoding='iso-8859-1')\n",
    "    for i in range(1, len(df.index), 2):\n",
    "        df.drop(i, inplace=True)\n",
    "    df.index = list(range(len(df.index)))\n",
    "    return df"
   ]
  },
  {
   "cell_type": "code",
   "execution_count": 17,
   "id": "508c1d83-6267-47a1-a90d-c92977be1245",
   "metadata": {},
   "outputs": [],
   "source": [
    "df1 = remove_odds_columns(file_one)\n",
    "df2 = remove_odds_columns(file_two)"
   ]
  },
  {
   "cell_type": "code",
   "execution_count": 18,
   "id": "b977f014-9938-493e-8e7f-abc70b5079d7",
   "metadata": {},
   "outputs": [],
   "source": [
    "assert len(df1.index) == len(df2.index)"
   ]
  },
  {
   "cell_type": "code",
   "execution_count": 19,
   "id": "04d8acd2-f991-4d58-ac9f-018954790c27",
   "metadata": {},
   "outputs": [
    {
     "name": "stdout",
     "output_type": "stream",
     "text": [
      "\u001b[32mColumn a1 is ok\u001b[0m\n",
      "\u001b[32mColumn a2 is ok\u001b[0m\n",
      "\u001b[32mColumn a3 is ok\u001b[0m\n",
      "\u001b[32mColumn a4 is ok\u001b[0m\n",
      "\u001b[32mColumn a5 is ok\u001b[0m\n",
      "\u001b[31mDifferent of query size: (15, 3) != (14, 3)\u001b[0m\n",
      "\u001b[31mDifferent of query size: (3, 2) != (3, 1)\u001b[0m\n",
      "\u001b[31mDifferent of query size: (4, 2) != (4, 1)\u001b[0m\n",
      "\u001b[32mColumn q4 is ok\u001b[0m\n",
      "\u001b[31mDifferent of query size: (8, 2) != (72, 2)\u001b[0m\n",
      "\u001b[32mColumn q6 is ok\u001b[0m\n",
      "\u001b[32mColumn q7 is ok\u001b[0m\n",
      "\u001b[32mColumn q8 is ok\u001b[0m\n",
      "\u001b[32mColumn q9 is ok\u001b[0m\n",
      "\u001b[32mColumn q10 is ok\u001b[0m\n"
     ]
    }
   ],
   "source": [
    "for i in range(len(df1.index)):\n",
    "    if df1.loc[i, :].equals(df2.loc[i, :]):\n",
    "        print(colored(f\"Column {df1.loc[i, 'Query Number']} is ok\", \"green\"))\n",
    "    else:\n",
    "        print(colored(f\"Different of query size: {df1.loc[i, 'Query Size']} != {df2.loc[i, 'Query Size']}\", \"red\"))"
   ]
  },
  {
   "cell_type": "code",
   "execution_count": null,
   "id": "a9cbdd7c-a102-45e4-9653-97f18de9feaf",
   "metadata": {},
   "outputs": [],
   "source": []
  }
 ],
 "metadata": {
  "kernelspec": {
   "display_name": "Python 3 (ipykernel)",
   "language": "python",
   "name": "python3"
  },
  "language_info": {
   "codemirror_mode": {
    "name": "ipython",
    "version": 3
   },
   "file_extension": ".py",
   "mimetype": "text/x-python",
   "name": "python",
   "nbconvert_exporter": "python",
   "pygments_lexer": "ipython3",
   "version": "3.9.16"
  }
 },
 "nbformat": 4,
 "nbformat_minor": 5
}
